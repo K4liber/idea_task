{
 "cells": [
  {
   "cell_type": "code",
   "execution_count": 2,
   "metadata": {
    "pycharm": {
     "name": "#%%\n"
    }
   },
   "outputs": [
    {
     "name": "stderr",
     "output_type": "stream",
     "text": [
      "/home/jasiek/python3.9.1/bin/python3.9.1/lib/python3.9/site-packages/pandas/compat/__init__.py:97: UserWarning: Could not import the lzma module. Your installed Python is incomplete. Attempting to use lzma compression will result in a RuntimeError.\n",
      "  warnings.warn(msg)\n"
     ]
    }
   ],
   "source": [
    "import sys\n",
    "import os\n",
    "# Definitions\n",
    "ROOT_DIR = os.path.dirname(os.path.dirname(os.getcwd())) # Based on the notebook path\n",
    "sys.path.insert(0, ROOT_DIR)\n",
    "\n",
    "import h5py\n",
    "from sklearn.cluster import KMeans\n",
    "\n",
    "from idea.data.hdf5.utils import get_table_df"
   ]
  },
  {
   "cell_type": "code",
   "execution_count": 3,
   "metadata": {},
   "outputs": [],
   "source": [
    "hd5_filepath = os.path.join(ROOT_DIR, 'idea/data/hdf5/files/task_data.hdf5')\n",
    "file = h5py.File(hd5_filepath)\n",
    "branches_df = get_table_df(file, 'branches', ['node_from', 'node_to', 'flow'])"
   ]
  },
  {
   "cell_type": "code",
   "execution_count": 4,
   "metadata": {
    "pycharm": {
     "name": "#%%\n"
    }
   },
   "outputs": [
    {
     "name": "stdout",
     "output_type": "stream",
     "text": [
      "      node_from  node_to       flow hour\n",
      "0           1.0      2.0  -0.399469    1\n",
      "1           1.0     39.0   0.399469    1\n",
      "2           2.0      3.0  10.019257    1\n",
      "3           2.0     25.0  -0.018727    1\n",
      "4           3.0      4.0  -2.959464    1\n",
      "...         ...      ...        ...  ...\n",
      "1099       22.0     35.0  -6.870000    9\n",
      "1100       23.0     36.0  -5.800000    9\n",
      "1101       25.0     37.0  -5.640000    9\n",
      "1102       29.0     38.0  -8.650000    9\n",
      "1103       31.0      6.0   6.368000    9\n",
      "\n",
      "[1104 rows x 4 columns]\n"
     ]
    }
   ],
   "source": [
    "print(branches_df)"
   ]
  },
  {
   "cell_type": "code",
   "execution_count": 5,
   "metadata": {},
   "outputs": [
    {
     "name": "stdout",
     "output_type": "stream",
     "text": [
      "                   flow  hour\n",
      "node_from node_to            \n",
      "1.0       2.0        24    24\n",
      "          39.0       24    24\n",
      "2.0       3.0        24    24\n",
      "          25.0       24    24\n",
      "          30.0       24    24\n",
      "3.0       4.0        24    24\n",
      "          18.0       24    24\n",
      "4.0       5.0        24    24\n",
      "          14.0       24    24\n",
      "5.0       6.0        24    24\n",
      "          8.0        24    24\n",
      "6.0       7.0        24    24\n",
      "          11.0       24    24\n",
      "7.0       8.0        24    24\n",
      "8.0       9.0        24    24\n",
      "9.0       39.0       24    24\n",
      "10.0      11.0       24    24\n",
      "          13.0       24    24\n",
      "          32.0       24    24\n",
      "12.0      11.0       24    24\n",
      "          13.0       24    24\n",
      "13.0      14.0       24    24\n",
      "14.0      15.0       24    24\n",
      "15.0      16.0       24    24\n",
      "16.0      17.0       24    24\n",
      "          19.0       24    24\n",
      "          21.0       24    24\n",
      "          24.0       24    24\n",
      "17.0      18.0       24    24\n",
      "          27.0       24    24\n",
      "19.0      20.0       24    24\n",
      "          33.0       24    24\n",
      "20.0      34.0       24    24\n",
      "21.0      22.0       24    24\n",
      "22.0      23.0       24    24\n",
      "          35.0       24    24\n",
      "23.0      24.0       24    24\n",
      "          36.0       24    24\n",
      "25.0      26.0       24    24\n",
      "          37.0       24    24\n",
      "26.0      27.0       24    24\n",
      "          28.0       24    24\n",
      "          29.0       24    24\n",
      "28.0      29.0       24    24\n",
      "29.0      38.0       24    24\n",
      "31.0      6.0        24    24\n"
     ]
    }
   ],
   "source": [
    "# Make sure that the nodes (from and to) order is always the same\n",
    "print(branches_df.groupby(['node_from', 'node_to']).agg('count'))"
   ]
  },
  {
   "cell_type": "code",
   "execution_count": 12,
   "metadata": {},
   "outputs": [
    {
     "name": "stdout",
     "output_type": "stream",
     "text": [
      "     node_from  node_to       flow hour\n",
      "0          1.0      2.0  -0.399469    1\n",
      "1          1.0     39.0   0.399469    1\n",
      "2          2.0      3.0  10.019257    1\n",
      "3          2.0     25.0  -0.018727    1\n",
      "4          3.0      4.0  -2.959464    1\n",
      "..         ...      ...        ...  ...\n",
      "823       22.0     35.0  -6.870000    3\n",
      "824       23.0     36.0  -5.800000    3\n",
      "825       25.0     37.0  -5.640000    3\n",
      "826       29.0     38.0  -8.650000    3\n",
      "827       31.0      6.0   6.368000    3\n",
      "\n",
      "[138 rows x 4 columns]\n"
     ]
    }
   ],
   "source": [
    "branches_in_hours = branches_df.loc[branches_df['hour'].isin({1, 2, 3})]\n",
    "print(branches_in_hours)"
   ]
  },
  {
   "cell_type": "code",
   "execution_count": 14,
   "metadata": {},
   "outputs": [],
   "source": [
    "branches_avg = branches_in_hours.abs().groupby(['node_from', 'node_to']).mean()"
   ]
  },
  {
   "cell_type": "code",
   "execution_count": 15,
   "metadata": {},
   "outputs": [],
   "source": [
    "# Clustering settings\n",
    "columns = ['flow'] # Which columns use for clustering\n",
    "n_clusters = 3 # Number of clusters\n",
    "algorithm = KMeans(n_clusters=n_clusters)"
   ]
  },
  {
   "cell_type": "code",
   "execution_count": 24,
   "metadata": {},
   "outputs": [
    {
     "name": "stdout",
     "output_type": "stream",
     "text": [
      "                        flow  Cluster  cluster\n",
      "node_from node_to                             \n",
      "1.0       2.0       1.934551        1        0\n",
      "          39.0      1.934551        1        0\n",
      "2.0       3.0      11.109459        0        1\n",
      "          25.0      0.426147        1        0\n",
      "          30.0     10.400000        0        1\n",
      "3.0       4.0       2.341373        1        0\n",
      "          18.0      5.481236        2        2\n",
      "4.0       5.0       4.636625        2        2\n",
      "          14.0      1.139447        1        0\n",
      "5.0       6.0       5.089671        2        2\n",
      "          8.0       2.805420        1        0\n",
      "6.0       7.0       3.163743        1        0\n",
      "          11.0      2.033938        1        0\n",
      "7.0       8.0       0.882572        1        0\n",
      "8.0       9.0       2.120812        1        0\n",
      "9.0       39.0      2.120812        1        0\n",
      "10.0      11.0      2.229926        1        0\n",
      "          13.0      5.306392        2        2\n",
      "          32.0      7.250000        0        1\n",
      "12.0      11.0      0.854497        1        0\n",
      "          13.0      0.748910        1        0\n",
      "13.0      14.0      4.823079        2        2\n",
      "14.0      15.0      3.805678        2        2\n",
      "15.0      16.0      4.033350        2        2\n",
      "16.0      17.0      2.938646        1        0\n",
      "          19.0      7.643234        0        1\n",
      "          21.0      4.476208        2        2\n",
      "          24.0      0.968868        1        0\n",
      "17.0      18.0      3.519580        2        2\n",
      "          27.0      2.528853        1        0\n",
      "19.0      20.0      3.093535        1        0\n",
      "          33.0      6.520000        2        2\n",
      "20.0      34.0      5.080000        2        2\n",
      "21.0      22.0      7.454342        0        1\n",
      "22.0      23.0      1.048535        1        0\n",
      "          35.0      6.870000        0        1\n",
      "23.0      24.0      2.740658        1        0\n",
      "          36.0      5.800000        2        2\n",
      "25.0      26.0      2.973853        1        0\n",
      "          37.0      5.640000        2        2\n",
      "26.0      27.0      5.338853        2        2\n",
      "          28.0      1.628652        1        0\n",
      "          29.0      2.126348        1        0\n",
      "28.0      29.0      3.688652        2        2\n",
      "29.0      38.0      8.650000        0        1\n",
      "31.0      6.0       6.398667        2        2\n"
     ]
    }
   ],
   "source": [
    "y = algorithm.fit_predict(branches_avg[columns])\n",
    "branches_avg['cluster'] = y\n",
    "print(branches_avg)"
   ]
  },
  {
   "cell_type": "code",
   "execution_count": 26,
   "metadata": {},
   "outputs": [
    {
     "name": "stdout",
     "output_type": "stream",
     "text": [
      "(1.0, 2.0)\n",
      "(1.0, 39.0)\n",
      "(2.0, 3.0)\n",
      "(2.0, 25.0)\n",
      "(2.0, 30.0)\n",
      "(3.0, 4.0)\n",
      "(3.0, 18.0)\n",
      "(4.0, 5.0)\n",
      "(4.0, 14.0)\n",
      "(5.0, 6.0)\n",
      "(5.0, 8.0)\n",
      "(6.0, 7.0)\n",
      "(6.0, 11.0)\n",
      "(7.0, 8.0)\n",
      "(8.0, 9.0)\n",
      "(9.0, 39.0)\n",
      "(10.0, 11.0)\n",
      "(10.0, 13.0)\n",
      "(10.0, 32.0)\n",
      "(12.0, 11.0)\n",
      "(12.0, 13.0)\n",
      "(13.0, 14.0)\n",
      "(14.0, 15.0)\n",
      "(15.0, 16.0)\n",
      "(16.0, 17.0)\n",
      "(16.0, 19.0)\n",
      "(16.0, 21.0)\n",
      "(16.0, 24.0)\n",
      "(17.0, 18.0)\n",
      "(17.0, 27.0)\n",
      "(19.0, 20.0)\n",
      "(19.0, 33.0)\n",
      "(20.0, 34.0)\n",
      "(21.0, 22.0)\n",
      "(22.0, 23.0)\n",
      "(22.0, 35.0)\n",
      "(23.0, 24.0)\n",
      "(23.0, 36.0)\n",
      "(25.0, 26.0)\n",
      "(25.0, 37.0)\n",
      "(26.0, 27.0)\n",
      "(26.0, 28.0)\n",
      "(26.0, 29.0)\n",
      "(28.0, 29.0)\n",
      "(29.0, 38.0)\n",
      "(31.0, 6.0)\n",
      "{(1.0, 2.0): 0, (1.0, 39.0): 0, (2.0, 3.0): 1, (2.0, 25.0): 0, (2.0, 30.0): 1, (3.0, 4.0): 0, (3.0, 18.0): 2, (4.0, 5.0): 2, (4.0, 14.0): 0, (5.0, 6.0): 2, (5.0, 8.0): 0, (6.0, 7.0): 0, (6.0, 11.0): 0, (7.0, 8.0): 0, (8.0, 9.0): 0, (9.0, 39.0): 0, (10.0, 11.0): 0, (10.0, 13.0): 2, (10.0, 32.0): 1, (12.0, 11.0): 0, (12.0, 13.0): 0, (13.0, 14.0): 2, (14.0, 15.0): 2, (15.0, 16.0): 2, (16.0, 17.0): 0, (16.0, 19.0): 1, (16.0, 21.0): 2, (16.0, 24.0): 0, (17.0, 18.0): 2, (17.0, 27.0): 0, (19.0, 20.0): 0, (19.0, 33.0): 2, (20.0, 34.0): 2, (21.0, 22.0): 1, (22.0, 23.0): 0, (22.0, 35.0): 1, (23.0, 24.0): 0, (23.0, 36.0): 2, (25.0, 26.0): 0, (25.0, 37.0): 2, (26.0, 27.0): 2, (26.0, 28.0): 0, (26.0, 29.0): 0, (28.0, 29.0): 2, (29.0, 38.0): 1, (31.0, 6.0): 2}\n"
     ]
    }
   ],
   "source": [
    "branch_to_cluster = dict()\n",
    "\n",
    "for _, row in branches_avg.iterrows():\n",
    "    key = tuple([abs(x) for x in row.name])\n",
    "    print(key)\n",
    "    branch_to_cluster[key] = int(row['cluster'])\n",
    "    \n",
    "print(branch_to_cluster)"
   ]
  },
  {
   "cell_type": "code",
   "execution_count": null,
   "metadata": {},
   "outputs": [],
   "source": []
  }
 ],
 "metadata": {
  "kernelspec": {
   "display_name": "Python 3",
   "language": "python",
   "name": "python3"
  },
  "language_info": {
   "codemirror_mode": {
    "name": "ipython",
    "version": 3
   },
   "file_extension": ".py",
   "mimetype": "text/x-python",
   "name": "python",
   "nbconvert_exporter": "python",
   "pygments_lexer": "ipython3",
   "version": "3.9.1"
  }
 },
 "nbformat": 4,
 "nbformat_minor": 1
}
